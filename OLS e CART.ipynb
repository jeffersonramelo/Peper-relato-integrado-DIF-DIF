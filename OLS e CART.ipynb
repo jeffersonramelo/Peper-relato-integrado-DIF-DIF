{
  "nbformat": 4,
  "nbformat_minor": 0,
  "metadata": {
    "colab": {
      "provenance": [],
      "authorship_tag": "ABX9TyNk5WRxHy22kiP2tScsMB7O",
      "include_colab_link": true
    },
    "kernelspec": {
      "name": "python3",
      "display_name": "Python 3"
    },
    "language_info": {
      "name": "python"
    }
  },
  "cells": [
    {
      "cell_type": "markdown",
      "metadata": {
        "id": "view-in-github",
        "colab_type": "text"
      },
      "source": [
        "<a href=\"https://colab.research.google.com/github/jeffersonramelo/Peper-relato-integrado-DIF-DIF/blob/main/OLS%20e%20CART.ipynb\" target=\"_parent\"><img src=\"https://colab.research.google.com/assets/colab-badge.svg\" alt=\"Open In Colab\"/></a>"
      ]
    },
    {
      "cell_type": "code",
      "source": [
        "pip install pandas openpyxl"
      ],
      "metadata": {
        "colab": {
          "base_uri": "https://localhost:8080/"
        },
        "id": "BCjSCJX2hR7I",
        "outputId": "c864868b-d05b-4aa6-8e98-b8ab9df8754e"
      },
      "execution_count": null,
      "outputs": [
        {
          "output_type": "stream",
          "name": "stdout",
          "text": [
            "Requirement already satisfied: pandas in /usr/local/lib/python3.10/dist-packages (1.5.3)\n",
            "Requirement already satisfied: openpyxl in /usr/local/lib/python3.10/dist-packages (3.1.2)\n",
            "Requirement already satisfied: python-dateutil>=2.8.1 in /usr/local/lib/python3.10/dist-packages (from pandas) (2.8.2)\n",
            "Requirement already satisfied: pytz>=2020.1 in /usr/local/lib/python3.10/dist-packages (from pandas) (2023.4)\n",
            "Requirement already satisfied: numpy>=1.21.0 in /usr/local/lib/python3.10/dist-packages (from pandas) (1.23.5)\n",
            "Requirement already satisfied: et-xmlfile in /usr/local/lib/python3.10/dist-packages (from openpyxl) (1.1.0)\n",
            "Requirement already satisfied: six>=1.5 in /usr/local/lib/python3.10/dist-packages (from python-dateutil>=2.8.1->pandas) (1.16.0)\n"
          ]
        }
      ]
    },
    {
      "cell_type": "code",
      "source": [
        "import pandas as pd\n",
        "\n",
        "# Caminho para o seu arquivo XLSX\n",
        "arquivo_xlsx = '/content/merged_data_final todas.xlsx'\n",
        "\n",
        "# Lendo o arquivo XLSX\n",
        "try:\n",
        "    df = pd.read_excel(arquivo_xlsx, engine='openpyxl')\n",
        "    # Exibindo as primeiras linhas do DataFrame para verificar os dados\n",
        "    print(df.head())\n",
        "except Exception as e:\n",
        "    print(f\"Erro ao ler o arquivo: {e}\")"
      ],
      "metadata": {
        "colab": {
          "base_uri": "https://localhost:8080/"
        },
        "id": "jIphYf9Yi2aQ",
        "outputId": "723d7926-a5e9-4f6d-fee6-720a2069ba80"
      },
      "execution_count": null,
      "outputs": [
        {
          "output_type": "stream",
          "name": "stdout",
          "text": [
            "  codigo                                Nome_Companhia        Nome  \\\n",
            "0   AESB                        AES Brasil Energia S/A  AES Brasil   \n",
            "1   AMBP  AMBIPAR PARTICIPAÇÕES E EMPREENDIMENTOS S.A.     Ambipar   \n",
            "2   AZUL                                     AZUL S.A.        Azul   \n",
            "3   CEAB                                C&A MODAS S.A.   Cea Modas   \n",
            "4   SBSP        CIA SANEAMENTO BÁSICO ESTADO SÃO PAULO      Sabesp   \n",
            "\n",
            "    SetorEconômicob3    SubsetorBovespa   SetorEconomatica  \\\n",
            "0  Utilidade pública   Energia elétrica   Energia Elétrica   \n",
            "1  Utilidade pública  Água e saneamento             Outros   \n",
            "2   Bens industriais         Transporte  Transporte Serviç   \n",
            "3    Consumo cíclico           Comércio           Comércio   \n",
            "4  Utilidade pública  Água e saneamento             Outros   \n",
            "\n",
            "   ValorMercado30Abr11  ValorMercado30Mai11  ValorMercado30Jun11  PU30Abr11  \\\n",
            "0                  NaN                  NaN                  NaN        NaN   \n",
            "1                  NaN                  NaN                  NaN        NaN   \n",
            "2                  NaN                  NaN                  NaN        NaN   \n",
            "3                  NaN                  NaN                  NaN        NaN   \n",
            "4          10382514.91         1.105008e+07         1.058985e+07  11.097863   \n",
            "\n",
            "   ...  Auditores_Independentes  GRI  ESG  Environmental  Social  Governance  \\\n",
            "0  ...                      NaN  NaN  NaN            NaN     NaN         NaN   \n",
            "1  ...                      NaN  NaN  NaN            NaN     NaN         NaN   \n",
            "2  ...                      NaN  NaN  NaN            NaN     NaN         NaN   \n",
            "3  ...                      NaN  NaN  NaN            NaN     NaN         NaN   \n",
            "4  ...                      NaN  NaN  NaN            NaN     NaN         NaN   \n",
            "\n",
            "   Ambiental  Governança  fog_index  flesch_index  \n",
            "0        NaN         NaN        NaN           NaN  \n",
            "1        NaN         NaN        NaN           NaN  \n",
            "2        NaN         NaN        NaN           NaN  \n",
            "3        NaN         NaN        NaN           NaN  \n",
            "4        NaN         NaN        NaN           NaN  \n",
            "\n",
            "[5 rows x 52 columns]\n"
          ]
        }
      ]
    },
    {
      "cell_type": "code",
      "source": [
        "print(df.columns.tolist())\n"
      ],
      "metadata": {
        "colab": {
          "base_uri": "https://localhost:8080/"
        },
        "id": "QRKU9unskCfL",
        "outputId": "facef7d1-0787-4798-daab-e4eb85ed1ad7"
      },
      "execution_count": null,
      "outputs": [
        {
          "output_type": "stream",
          "name": "stdout",
          "text": [
            "['codigo', 'Nome_Companhia', 'Nome', 'SetorEconômicob3', 'SubsetorBovespa', 'SetorEconomatica', 'ValorMercado30Abr11', 'ValorMercado30Mai11', 'ValorMercado30Jun11', 'PU30Abr11', 'PU30Mai11', 'PU30Jun11', 'PatrimLiqDez2010', 'LucroLiquidoDez2010', 'ativototalt-1', 'ativototalt', 'IntangDez2010', 'CaixaEEqCxDez2010', 'ReceitaDez2010', 'CxGerOpDez2010', 'OuReAbDez2010', 'LPADez2010', 'quantacoes', 'ano', 'Data_Entrega', 'Categoria', 'Link_Download', 'IIRC', 'financeiro', 'manufaturado', 'intelectual', 'humano', 'social', 'relacionamento', 'natural', 'padrao_IIRC', 'IIRC+ESG', 'IIRC+auditoria', 'SASB', 'CPC_09', 'value_reporting_foundation', 'asseguracao', 'Auditores_Independentes', 'GRI', 'ESG', 'Environmental', 'Social', 'Governance', 'Ambiental', 'Governança', 'fog_index', 'flesch_index']\n"
          ]
        }
      ]
    },
    {
      "cell_type": "code",
      "source": [
        "import pandas as pd\n",
        "\n",
        "# Supondo que 'df' é o seu DataFrame\n",
        "\n",
        "# Lista de variáveis para análise estatística descritiva, incluindo 'ano'\n",
        "variaveis = [\n",
        "    'SetorEconômicob3', 'ValorMercado30Jun11', 'PU30Jun11', 'PatrimLiqDez2010',\n",
        "    'LucroLiquidoDez2010', 'ativototalt', 'IntangDez2010', 'CaixaEEqCxDez2010',\n",
        "    'ReceitaDez2010', 'CxGerOpDez2010', 'OuReAbDez2010', 'LPADez2010',\n",
        "    'fog_index', 'flesch_index', 'ano', 'padrao_IIRC'\n",
        "]\n",
        "\n",
        "# Calculando estatísticas descritivas para as variáveis selecionadas\n",
        "estatisticas_descritivas = df[variaveis].describe()\n",
        "\n",
        "print(estatisticas_descritivas)\n"
      ],
      "metadata": {
        "colab": {
          "base_uri": "https://localhost:8080/"
        },
        "id": "VTOC0WwXmSc5",
        "outputId": "6e0ac501-cf54-462e-cc2e-e7f8cecd1460"
      },
      "execution_count": null,
      "outputs": [
        {
          "output_type": "stream",
          "name": "stdout",
          "text": [
            "       ValorMercado30Jun11      PU30Jun11  PatrimLiqDez2010  \\\n",
            "count         3.488000e+03    3249.000000      4.345000e+03   \n",
            "mean          1.164744e+07     272.778137      5.657964e+06   \n",
            "std           3.664798e+07    7568.208019      2.320200e+07   \n",
            "min           2.003191e+03       0.107613     -2.666662e+07   \n",
            "25%           3.311907e+05       4.718634      1.529920e+05   \n",
            "50%           1.780245e+06       9.875004      9.050380e+05   \n",
            "75%           7.071519e+06      19.538777      2.905005e+06   \n",
            "max           5.705210e+08  383039.600700      3.873290e+08   \n",
            "\n",
            "       LucroLiquidoDez2010   ativototalt  IntangDez2010  CaixaEEqCxDez2010  \\\n",
            "count         4.345000e+03  4.346000e+03   3.229000e+03       4.041000e+03   \n",
            "mean          7.340159e+05  2.854267e+07   1.350696e+06       1.023769e+06   \n",
            "std           5.604540e+06  1.491795e+08   4.573259e+06       4.196688e+06   \n",
            "min          -4.421219e+07  0.000000e+00  -1.600100e+04      -3.000000e+00   \n",
            "25%          -4.440000e+02  6.044292e+05   8.284810e+02       1.416800e+04   \n",
            "50%           5.198000e+04  2.711030e+06   3.202700e+04       1.193520e+05   \n",
            "75%           3.410940e+05  1.037580e+07   6.243320e+05       5.782640e+05   \n",
            "max           1.883280e+08  2.469958e+09   8.207557e+07       9.784500e+07   \n",
            "\n",
            "       ReceitaDez2010  CxGerOpDez2010  OuReAbDez2010     LPADez2010  \\\n",
            "count    4.016000e+03    4.303000e+03   4.124000e+03    4345.000000   \n",
            "mean     7.266631e+06    2.127140e+06  -6.174132e+04     -73.180001   \n",
            "std      2.768867e+07    1.113270e+07   1.497463e+06    2604.124708   \n",
            "min     -6.699600e+05   -6.432249e+06  -4.333400e+07 -107899.712800   \n",
            "25%      2.169255e+05    1.425500e+04   0.000000e+00      -0.029584   \n",
            "50%      1.035104e+06    1.718170e+05   0.000000e+00       0.477721   \n",
            "75%      4.232899e+06    9.832935e+05   0.000000e+00       1.504432   \n",
            "max      6.412560e+08    3.621380e+08   2.549800e+07   40930.162229   \n",
            "\n",
            "        fog_index  flesch_index          ano  padrao_IIRC  \n",
            "count  735.000000    730.000000  5264.000000   735.000000  \n",
            "mean    14.409973     18.247350  2016.102204     0.288435  \n",
            "std      2.180462      6.985253     3.758252     0.453343  \n",
            "min      0.000000    -38.004648  2010.000000     0.000000  \n",
            "25%     13.470000     14.262439  2013.000000     0.000000  \n",
            "50%     14.410000     18.320900  2016.000000     0.000000  \n",
            "75%     15.445000     21.983179  2019.000000     1.000000  \n",
            "max     35.720000     66.544828  2022.000000     1.000000  \n"
          ]
        }
      ]
    },
    {
      "cell_type": "code",
      "source": [
        "import pandas as pd\n",
        "\n",
        "# Suponha que 'df' é o seu DataFrame e as variáveis já foram definidas\n",
        "# Calculando estatísticas descritivas para as variáveis selecionadas\n",
        "# estatisticas_descritivas = df[variaveis].describe()\n",
        "\n",
        "# Salvando o DataFrame de estatísticas descritivas em um arquivo Excel\n",
        "nome_do_arquivo_excel = 'estatisticas_descritivas.xlsx'\n",
        "estatisticas_descritivas.to_excel(nome_do_arquivo_excel, engine='openpyxl')\n",
        "\n",
        "print(f'As estatísticas descritivas foram salvas com sucesso em: {nome_do_arquivo_excel}')\n"
      ],
      "metadata": {
        "colab": {
          "base_uri": "https://localhost:8080/"
        },
        "id": "VEtugR7zm2N0",
        "outputId": "78a28743-a95e-4288-cc58-c8b3bf4625e0"
      },
      "execution_count": null,
      "outputs": [
        {
          "output_type": "stream",
          "name": "stdout",
          "text": [
            "As estatísticas descritivas foram salvas com sucesso em: estatisticas_descritivas.xlsx\n"
          ]
        }
      ]
    }
  ]
}