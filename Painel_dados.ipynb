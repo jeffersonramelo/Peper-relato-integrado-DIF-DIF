{
  "nbformat": 4,
  "nbformat_minor": 0,
  "metadata": {
    "colab": {
      "provenance": [],
      "authorship_tag": "ABX9TyP+R0M1PgppBlCx52dfhazv",
      "include_colab_link": true
    },
    "kernelspec": {
      "name": "python3",
      "display_name": "Python 3"
    },
    "language_info": {
      "name": "python"
    }
  },
  "cells": [
    {
      "cell_type": "markdown",
      "metadata": {
        "id": "view-in-github",
        "colab_type": "text"
      },
      "source": [
        "<a href=\"https://colab.research.google.com/github/jeffersonramelo/Peper-relato-integrado-DIF-DIF/blob/main/Painel_dados.ipynb\" target=\"_parent\"><img src=\"https://colab.research.google.com/assets/colab-badge.svg\" alt=\"Open In Colab\"/></a>"
      ]
    },
    {
      "cell_type": "code",
      "execution_count": 1,
      "metadata": {
        "colab": {
          "base_uri": "https://localhost:8080/"
        },
        "id": "cms1e42ETzq7",
        "outputId": "b925e1a8-6820-4e93-ad3b-9d9f2e58c784"
      },
      "outputs": [
        {
          "output_type": "stream",
          "name": "stdout",
          "text": [
            "Requirement already satisfied: pandas in /usr/local/lib/python3.10/dist-packages (1.5.3)\n",
            "Requirement already satisfied: openpyxl in /usr/local/lib/python3.10/dist-packages (3.1.2)\n",
            "Requirement already satisfied: python-dateutil>=2.8.1 in /usr/local/lib/python3.10/dist-packages (from pandas) (2.8.2)\n",
            "Requirement already satisfied: pytz>=2020.1 in /usr/local/lib/python3.10/dist-packages (from pandas) (2023.4)\n",
            "Requirement already satisfied: numpy>=1.21.0 in /usr/local/lib/python3.10/dist-packages (from pandas) (1.23.5)\n",
            "Requirement already satisfied: et-xmlfile in /usr/local/lib/python3.10/dist-packages (from openpyxl) (1.1.0)\n",
            "Requirement already satisfied: six>=1.5 in /usr/local/lib/python3.10/dist-packages (from python-dateutil>=2.8.1->pandas) (1.16.0)\n"
          ]
        }
      ],
      "source": [
        "pip install pandas openpyxl"
      ]
    },
    {
      "cell_type": "code",
      "source": [
        "import pandas as pd\n",
        "\n",
        "# Caminho para o seu arquivo XLSX\n",
        "arquivo_xlsx = '/content/merged_data_final todas.xlsx'\n",
        "\n",
        "# Lendo o arquivo XLSX\n",
        "try:\n",
        "    df_panel = pd.read_excel(arquivo_xlsx, engine='openpyxl')\n",
        "\n",
        "    # Excluindo linhas que contenham \"Finanças e Seguros\" na coluna \"SetorEconomatica\"\n",
        "    df_filtrado = df_panel[df_panel['SetorEconomatica'] != 'Finanças e Seguros']\n",
        "\n",
        "    # Exibindo as primeiras linhas do DataFrame filtrado para verificar os dados\n",
        "    print(df_filtrado.head())\n",
        "except Exception as e:\n",
        "    print(f\"Erro ao ler o arquivo: {e}\")\n"
      ],
      "metadata": {
        "colab": {
          "base_uri": "https://localhost:8080/"
        },
        "id": "X535KogcT7ba",
        "outputId": "8ca036f7-655c-4f7e-e478-89b9de6fb7f2"
      },
      "execution_count": 6,
      "outputs": [
        {
          "output_type": "stream",
          "name": "stdout",
          "text": [
            "   id codigo                                Nome_Companhia        Nome  \\\n",
            "0   1   AESB                        AES Brasil Energia S/A  AES Brasil   \n",
            "1   2   AMBP  AMBIPAR PARTICIPAÇÕES E EMPREENDIMENTOS S.A.     Ambipar   \n",
            "2   3   AZUL                                     AZUL S.A.        Azul   \n",
            "3   4   CEAB                                C&A MODAS S.A.   Cea Modas   \n",
            "4   5   SBSP        CIA SANEAMENTO BÁSICO ESTADO SÃO PAULO      Sabesp   \n",
            "\n",
            "    SetorEconômicob3    SubsetorBovespa  ValorMercado30Abr11  \\\n",
            "0  Utilidade pública   Energia elétrica                  NaN   \n",
            "1  Utilidade pública  Água e saneamento                  NaN   \n",
            "2   Bens industriais         Transporte                  NaN   \n",
            "3    Consumo cíclico           Comércio                  NaN   \n",
            "4  Utilidade pública  Água e saneamento          10382514.91   \n",
            "\n",
            "   ValorMercado30Mai11  ValorMercado30Jun11  PU30Abr11  ...  Setor_Outros  \\\n",
            "0                  NaN                  NaN        NaN  ...             0   \n",
            "1                  NaN                  NaN        NaN  ...             1   \n",
            "2                  NaN                  NaN        NaN  ...             0   \n",
            "3                  NaN                  NaN        NaN  ...             0   \n",
            "4         1.105008e+07         1.058985e+07  11.097863  ...             1   \n",
            "\n",
            "   Setor_Papel e Celulose  Setor_Petróleo e Gas  Setor_Química  \\\n",
            "0                       0                     0              0   \n",
            "1                       0                     0              0   \n",
            "2                       0                     0              0   \n",
            "3                       0                     0              0   \n",
            "4                       0                     0              0   \n",
            "\n",
            "   Setor_Siderur & Metalur  Setor_Software e Dados  Setor_Telecomunicações  \\\n",
            "0                        0                       0                       0   \n",
            "1                        0                       0                       0   \n",
            "2                        0                       0                       0   \n",
            "3                        0                       0                       0   \n",
            "4                        0                       0                       0   \n",
            "\n",
            "   Setor_Textil  Setor_Transporte Serviç  Setor_Veiculos e peças  \n",
            "0             0                        0                       0  \n",
            "1             0                        0                       0  \n",
            "2             0                        1                       0  \n",
            "3             0                        0                       0  \n",
            "4             0                        0                       0  \n",
            "\n",
            "[5 rows x 78 columns]\n"
          ]
        }
      ]
    },
    {
      "cell_type": "code",
      "source": [
        "from scipy.stats.mstats import winsorize\n",
        "\n",
        "# Assumindo que df já foi definido e filtrado para os anos de 2020, 2021 e 2022\n",
        "for col in ['PatrimLiqDez2010', 'LucroLiquidoDez2010']:\n",
        "    # Aplicando winsorize em cada coluna selecionada com limites de 1% para os outliers em ambos os lados da distribuição\n",
        "    df_panel[col] = winsorize(df_panel[col], limits=[0.01, 0.01])\n"
      ],
      "metadata": {
        "id": "BNagcUJEUCzp"
      },
      "execution_count": 7,
      "outputs": []
    },
    {
      "cell_type": "code",
      "source": [
        "print(df_panel.columns.tolist())\n"
      ],
      "metadata": {
        "id": "LSfBFzsoovZ8",
        "outputId": "831a40c3-69bf-4a64-cc81-2a048e7368ce",
        "colab": {
          "base_uri": "https://localhost:8080/"
        }
      },
      "execution_count": 11,
      "outputs": [
        {
          "output_type": "stream",
          "name": "stdout",
          "text": [
            "['codigo', 'Nome_Companhia', 'Nome', 'SetorEconômicob3', 'SubsetorBovespa', 'ValorMercado30Abr11', 'ValorMercado30Mai11', 'ValorMercado30Jun11', 'PU30Abr11', 'PU30Mai11', 'PU30Jun11', 'PatrimLiqDez2010', 'LucroLiquidoDez2010', 'ativototalt-1', 'ativototalt', 'IntangDez2010', 'CaixaEEqCxDez2010', 'ReceitaDez2010', 'CxGerOpDez2010', 'OuReAbDez2010', 'LPADez2010', 'quantacoes', 'Data_Entrega', 'Categoria', 'Link_Download', 'd_divulga', 'IIRC', 'financeiro', 'manufaturado', 'intelectual', 'humano', 'social', 'relacionamento', 'natural', 'd_IIRC', 'IIRC+ESG', 'IIRC+auditoria', 'SASB', 'CPC_09', 'value_reporting_foundation', 'asseguracao', 'Auditores_Independentes', 'GRI', 'ESG', 'Environmental', 'Social', 'Governance', 'Ambiental', 'Governança', 'fog_index', 'flesch_index', 'd_fog_divulga', 'd_flesch_divulga', 'd_fog_IIRC', 'd_flesch_IIRC', 'SetorEconomatica', 'Setor_Agro e Pesca', 'Setor_Alimentos e Beb', 'Setor_Comércio', 'Setor_Construção', 'Setor_Eletroeletrônicos', 'Setor_Energia Elétrica', 'Setor_Finanças e Seguros', 'Setor_Minerais não Met', 'Setor_Mineração', 'Setor_Máquinas Indust', 'Setor_Outros', 'Setor_Papel e Celulose', 'Setor_Petróleo e Gas', 'Setor_Química', 'Setor_Siderur & Metalur', 'Setor_Software e Dados', 'Setor_Telecomunicações', 'Setor_Textil', 'Setor_Transporte Serviç', 'Setor_Veiculos e peças']\n"
          ]
        }
      ]
    },
    {
      "cell_type": "code",
      "source": [
        "pip install linearmodels"
      ],
      "metadata": {
        "colab": {
          "base_uri": "https://localhost:8080/"
        },
        "id": "wz1A_2ZMV0D3",
        "outputId": "71da3b0f-7978-4831-8c15-8e7bab049ca3"
      },
      "execution_count": 8,
      "outputs": [
        {
          "output_type": "stream",
          "name": "stdout",
          "text": [
            "Collecting linearmodels\n",
            "  Downloading linearmodels-5.4-cp310-cp310-manylinux_2_17_x86_64.manylinux2014_x86_64.whl (1.5 MB)\n",
            "\u001b[2K     \u001b[90m━━━━━━━━━━━━━━━━━━━━━━━━━━━━━━━━━━━━━━━━\u001b[0m \u001b[32m1.5/1.5 MB\u001b[0m \u001b[31m9.6 MB/s\u001b[0m eta \u001b[36m0:00:00\u001b[0m\n",
            "\u001b[?25hRequirement already satisfied: numpy>=1.22.0 in /usr/local/lib/python3.10/dist-packages (from linearmodels) (1.23.5)\n",
            "Requirement already satisfied: pandas>=1.3.0 in /usr/local/lib/python3.10/dist-packages (from linearmodels) (1.5.3)\n",
            "Requirement already satisfied: scipy>=1.5.0 in /usr/local/lib/python3.10/dist-packages (from linearmodels) (1.11.4)\n",
            "Requirement already satisfied: statsmodels>=0.12.0 in /usr/local/lib/python3.10/dist-packages (from linearmodels) (0.14.1)\n",
            "Collecting mypy-extensions>=0.4 (from linearmodels)\n",
            "  Downloading mypy_extensions-1.0.0-py3-none-any.whl (4.7 kB)\n",
            "Requirement already satisfied: Cython>=0.29.37 in /usr/local/lib/python3.10/dist-packages (from linearmodels) (3.0.8)\n",
            "Collecting pyhdfe>=0.1 (from linearmodels)\n",
            "  Downloading pyhdfe-0.2.0-py3-none-any.whl (19 kB)\n",
            "Collecting formulaic>=0.6.5 (from linearmodels)\n",
            "  Downloading formulaic-1.0.1-py3-none-any.whl (94 kB)\n",
            "\u001b[2K     \u001b[90m━━━━━━━━━━━━━━━━━━━━━━━━━━━━━━━━━━━━━━━━\u001b[0m \u001b[32m94.2/94.2 kB\u001b[0m \u001b[31m8.9 MB/s\u001b[0m eta \u001b[36m0:00:00\u001b[0m\n",
            "\u001b[?25hCollecting setuptools-scm[toml]<9.0.0,>=8.0.0 (from linearmodels)\n",
            "  Downloading setuptools_scm-8.0.4-py3-none-any.whl (42 kB)\n",
            "\u001b[2K     \u001b[90m━━━━━━━━━━━━━━━━━━━━━━━━━━━━━━━━━━━━━━━━\u001b[0m \u001b[32m42.1/42.1 kB\u001b[0m \u001b[31m3.6 MB/s\u001b[0m eta \u001b[36m0:00:00\u001b[0m\n",
            "\u001b[?25hCollecting interface-meta>=1.2.0 (from formulaic>=0.6.5->linearmodels)\n",
            "  Downloading interface_meta-1.3.0-py3-none-any.whl (14 kB)\n",
            "Requirement already satisfied: typing-extensions>=4.2.0 in /usr/local/lib/python3.10/dist-packages (from formulaic>=0.6.5->linearmodels) (4.9.0)\n",
            "Requirement already satisfied: wrapt>=1.0 in /usr/local/lib/python3.10/dist-packages (from formulaic>=0.6.5->linearmodels) (1.14.1)\n",
            "Requirement already satisfied: python-dateutil>=2.8.1 in /usr/local/lib/python3.10/dist-packages (from pandas>=1.3.0->linearmodels) (2.8.2)\n",
            "Requirement already satisfied: pytz>=2020.1 in /usr/local/lib/python3.10/dist-packages (from pandas>=1.3.0->linearmodels) (2023.4)\n",
            "Requirement already satisfied: packaging>=20 in /usr/local/lib/python3.10/dist-packages (from setuptools-scm[toml]<9.0.0,>=8.0.0->linearmodels) (23.2)\n",
            "Requirement already satisfied: setuptools in /usr/local/lib/python3.10/dist-packages (from setuptools-scm[toml]<9.0.0,>=8.0.0->linearmodels) (67.7.2)\n",
            "Requirement already satisfied: tomli>=1 in /usr/local/lib/python3.10/dist-packages (from setuptools-scm[toml]<9.0.0,>=8.0.0->linearmodels) (2.0.1)\n",
            "Requirement already satisfied: patsy>=0.5.4 in /usr/local/lib/python3.10/dist-packages (from statsmodels>=0.12.0->linearmodels) (0.5.6)\n",
            "Requirement already satisfied: six in /usr/local/lib/python3.10/dist-packages (from patsy>=0.5.4->statsmodels>=0.12.0->linearmodels) (1.16.0)\n",
            "Installing collected packages: setuptools-scm, mypy-extensions, interface-meta, pyhdfe, formulaic, linearmodels\n",
            "Successfully installed formulaic-1.0.1 interface-meta-1.3.0 linearmodels-5.4 mypy-extensions-1.0.0 pyhdfe-0.2.0 setuptools-scm-8.0.4\n"
          ]
        }
      ]
    },
    {
      "cell_type": "code",
      "source": [
        "# Supondo que df_panel seja seu DataFrame original\n",
        "import statsmodels.api as sm\n",
        "from linearmodels.panel import PanelOLS, RandomEffects, PooledOLS\n",
        "from linearmodels.panel import compare\n",
        "\n",
        "# Corrigindo os nomes das variáveis baseado na lista fornecida\n",
        "X_colunas = [\n",
        "    'PatrimLiqDez2010', 'LucroLiquidoDez2010', 'Setor_Agro e Pesca', 'Setor_Alimentos e Beb',\n",
        "    'Setor_Comércio', 'Setor_Construção', 'Setor_Eletroeletrônicos', 'Setor_Minerais não Met', 'Setor_Mineração', 'Setor_Máquinas Indust',\n",
        "    'Setor_Outros', 'Setor_Papel e Celulose', 'Setor_Petróleo e Gas', 'Setor_Química',\n",
        "    'Setor_Siderur & Metalur', 'Setor_Software e Dados', 'Setor_Telecomunicações', 'Setor_Textil',\n",
        "    'Setor_Transporte Serviç', 'Setor_Veiculos e peças', 'd_divulga'\n",
        "]\n",
        "\n",
        "# Supondo que 'id' e 'ano' sejam colunas no DataFrame e não o índice MultiIndex neste ponto\n",
        "# Se 'id' e 'ano' não estão como índice, isso configura eles como tal\n",
        "if not isinstance(df_panel.index, pd.MultiIndex):\n",
        "    df_panel = df_panel.set_index(['id', 'ano'])\n",
        "\n",
        "# Verificar se a configuração foi realizada corretamente\n",
        "print(df_panel.index)\n",
        "\n",
        "# Preparar 'y' e 'X' com o DataFrame corrigido\n",
        "y = df_panel['PU30Jun11']\n",
        "X = df_panel[X_colunas]\n",
        "\n",
        "# Adicionar a constante a 'X'\n",
        "X = sm.add_constant(X)\n",
        "\n",
        "# Ajustando os modelos\n",
        "modelo_ef = PanelOLS(y, X, entity_effects=True).fit()\n",
        "modelo_ea = RandomEffects(y, X).fit()\n",
        "modelo_pooled = PooledOLS(y, X).fit()\n",
        "\n",
        "# Comparando os modelos\n",
        "resultado_comparacao = compare({\"Efeitos Fixos\": modelo_ef, \"Efeitos Aleatórios\": modelo_ea, \"Pooled OLS\": modelo_pooled})\n",
        "print(resultado_comparacao)\n"
      ],
      "metadata": {
        "id": "kkIE9-5ppf1r",
        "outputId": "f78dc302-bb0b-497d-cda3-a9be64ddc058",
        "colab": {
          "base_uri": "https://localhost:8080/",
          "height": 1000
        }
      },
      "execution_count": 13,
      "outputs": [
        {
          "output_type": "stream",
          "name": "stdout",
          "text": [
            "MultiIndex([(  1, 2010),\n",
            "            (  2, 2010),\n",
            "            (  3, 2010),\n",
            "            (  4, 2010),\n",
            "            (  5, 2010),\n",
            "            (  6, 2010),\n",
            "            (  7, 2010),\n",
            "            (  8, 2010),\n",
            "            (  9, 2010),\n",
            "            ( 10, 2010),\n",
            "            ...\n",
            "            (383, 2022),\n",
            "            (384, 2022),\n",
            "            (385, 2022),\n",
            "            (385, 2022),\n",
            "            (385, 2022),\n",
            "            (386, 2022),\n",
            "            (387, 2022),\n",
            "            (388, 2022),\n",
            "            (389, 2022),\n",
            "            (407, 2022)],\n",
            "           names=['id', 'ano'], length=5264)\n"
          ]
        },
        {
          "output_type": "stream",
          "name": "stderr",
          "text": [
            "/usr/local/lib/python3.10/dist-packages/linearmodels/panel/model.py:1214: MissingValueWarning: \n",
            "Inputs contain missing values. Dropping rows with missing observations.\n",
            "  super().__init__(dependent, exog, weights=weights, check_rank=check_rank)\n"
          ]
        },
        {
          "output_type": "error",
          "ename": "AbsorbingEffectError",
          "evalue": "\nThe model cannot be estimated. The included effects have fully absorbed\none or more of the variables. This occurs when one or more of the dependent\nvariable is perfectly explained using the effects included in the model.\n\nThe following variables or variable combinations have been fully absorbed\nor have become perfectly collinear after effects are removed:\n\n          const, PatrimLiqDez2010, LucroLiquidoDez2010, Setor_Agro e Pesca, Setor_Alimentos e Beb, Setor_Comércio, Setor_Construção, Setor_Eletroeletrônicos, Setor_Minerais não Met, Setor_Mineração, Setor_Máquinas Indust, Setor_Outros, Setor_Papel e Celulose, Setor_Petróleo e Gas, Setor_Química, Setor_Siderur & Metalur, Setor_Software e Dados, Setor_Telecomunicações, Setor_Textil, Setor_Transporte Serviç, Setor_Veiculos e peças, d_divulga\n          const, Setor_Agro e Pesca, Setor_Alimentos e Beb, Setor_Comércio, Setor_Construção, Setor_Eletroeletrônicos, Setor_Minerais não Met, Setor_Mineração, Setor_Máquinas Indust, Setor_Outros, Setor_Papel e Celulose, Setor_Petróleo e Gas, Setor_Química, Setor_Siderur & Metalur, Setor_Software e Dados, Setor_Telecomunicações, Setor_Textil, Setor_Transporte Serviç, Setor_Veiculos e peças\n          const, Setor_Agro e Pesca, Setor_Alimentos e Beb, Setor_Comércio, Setor_Construção, Setor_Eletroeletrônicos, Setor_Minerais não Met, Setor_Mineração, Setor_Máquinas Indust, Setor_Outros, Setor_Papel e Celulose, Setor_Petróleo e Gas, Setor_Química, Setor_Siderur & Metalur, Setor_Software e Dados, Setor_Telecomunicações, Setor_Textil, Setor_Transporte Serviç, Setor_Veiculos e peças\n          const, Setor_Agro e Pesca, Setor_Alimentos e Beb, Setor_Comércio, Setor_Construção, Setor_Eletroeletrônicos, Setor_Minerais não Met, Setor_Mineração, Setor_Máquinas Indust, Setor_Outros, Setor_Papel e Celulose, Setor_Petróleo e Gas, Setor_Química, Setor_Siderur & Metalur, Setor_Software e Dados, Setor_Telecomunicações, Setor_Textil, Setor_Transporte Serviç, Setor_Veiculos e peças\n          const, Setor_Agro e Pesca, Setor_Alimentos e Beb, Setor_Comércio, Setor_Construção, Setor_Eletroeletrônicos, Setor_Minerais não Met, Setor_Mineração, Setor_Máquinas Indust, Setor_Outros, Setor_Papel e Celulose, Setor_Petróleo e Gas, Setor_Química, Setor_Siderur & Metalur, Setor_Software e Dados, Setor_Telecomunicações, Setor_Textil, Setor_Transporte Serviç, Setor_Veiculos e peças\n          Setor_Agro e Pesca, Setor_Alimentos e Beb, Setor_Comércio, Setor_Construção, Setor_Eletroeletrônicos, Setor_Minerais não Met, Setor_Mineração, Setor_Máquinas Indust, Setor_Outros, Setor_Papel e Celulose, Setor_Petróleo e Gas, Setor_Química, Setor_Siderur & Metalur, Setor_Software e Dados, Setor_Telecomunicações, Setor_Textil, Setor_Transporte Serviç, Setor_Veiculos e peças\n          Setor_Agro e Pesca, Setor_Alimentos e Beb, Setor_Comércio, Setor_Construção, Setor_Eletroeletrônicos, Setor_Minerais não Met, Setor_Mineração, Setor_Máquinas Indust, Setor_Outros, Setor_Papel e Celulose, Setor_Petróleo e Gas, Setor_Química, Setor_Siderur & Metalur, Setor_Software e Dados, Setor_Telecomunicações, Setor_Textil, Setor_Transporte Serviç, Setor_Veiculos e peças\n          const, Setor_Agro e Pesca, Setor_Alimentos e Beb, Setor_Comércio, Setor_Construção, Setor_Eletroeletrônicos, Setor_Minerais não Met, Setor_Mineração, Setor_Máquinas Indust, Setor_Outros, Setor_Papel e Celulose, Setor_Petróleo e Gas, Setor_Química, Setor_Siderur & Metalur, Setor_Software e Dados, Setor_Telecomunicações, Setor_Textil, Setor_Transporte Serviç, Setor_Veiculos e peças\n          Setor_Agro e Pesca, Setor_Alimentos e Beb, Setor_Comércio, Setor_Construção, Setor_Eletroeletrônicos, Setor_Minerais não Met, Setor_Mineração, Setor_Máquinas Indust, Setor_Outros, Setor_Papel e Celulose, Setor_Petróleo e Gas, Setor_Química, Setor_Siderur & Metalur, Setor_Software e Dados, Setor_Telecomunicações, Setor_Textil, Setor_Transporte Serviç, Setor_Veiculos e peças\n          const, Setor_Agro e Pesca, Setor_Alimentos e Beb, Setor_Comércio, Setor_Construção, Setor_Eletroeletrônicos, Setor_Minerais não Met, Setor_Mineração, Setor_Máquinas Indust, Setor_Outros, Setor_Papel e Celulose, Setor_Petróleo e Gas, Setor_Química, Setor_Siderur & Metalur, Setor_Software e Dados, Setor_Telecomunicações, Setor_Textil, Setor_Transporte Serviç, Setor_Veiculos e peças\n          const, Setor_Agro e Pesca, Setor_Alimentos e Beb, Setor_Comércio, Setor_Construção, Setor_Eletroeletrônicos, Setor_Minerais não Met, Setor_Mineração, Setor_Máquinas Indust, Setor_Outros, Setor_Papel e Celulose, Setor_Petróleo e Gas, Setor_Química, Setor_Siderur & Metalur, Setor_Software e Dados, Setor_Telecomunicações, Setor_Textil, Setor_Transporte Serviç, Setor_Veiculos e peças\n          const, Setor_Agro e Pesca, Setor_Alimentos e Beb, Setor_Comércio, Setor_Construção, Setor_Eletroeletrônicos, Setor_Minerais não Met, Setor_Mineração, Setor_Máquinas Indust, Setor_Outros, Setor_Papel e Celulose, Setor_Petróleo e Gas, Setor_Química, Setor_Siderur & Metalur, Setor_Software e Dados, Setor_Telecomunicações, Setor_Textil, Setor_Transporte Serviç, Setor_Veiculos e peças\n          const, Setor_Agro e Pesca, Setor_Alimentos e Beb, Setor_Comércio, Setor_Construção, Setor_Eletroeletrônicos, Setor_Minerais não Met, Setor_Mineração, Setor_Máquinas Indust, Setor_Outros, Setor_Papel e Celulose, Setor_Petróleo e Gas, Setor_Química, Setor_Siderur & Metalur, Setor_Software e Dados, Setor_Telecomunicações, Setor_Textil, Setor_Transporte Serviç, Setor_Veiculos e peças\n          const, Setor_Agro e Pesca, Setor_Alimentos e Beb, Setor_Comércio, Setor_Construção, Setor_Eletroeletrônicos, Setor_Minerais não Met, Setor_Mineração, Setor_Máquinas Indust, Setor_Outros, Setor_Papel e Celulose, Setor_Petróleo e Gas, Setor_Química, Setor_Siderur & Metalur, Setor_Software e Dados, Setor_Telecomunicações, Setor_Textil, Setor_Transporte Serviç, Setor_Veiculos e peças\n          const, Setor_Agro e Pesca, Setor_Alimentos e Beb, Setor_Comércio, Setor_Construção, Setor_Eletroeletrônicos, Setor_Minerais não Met, Setor_Mineração, Setor_Máquinas Indust, Setor_Outros, Setor_Papel e Celulose, Setor_Petróleo e Gas, Setor_Química, Setor_Siderur & Metalur, Setor_Software e Dados, Setor_Telecomunicações, Setor_Textil, Setor_Transporte Serviç, Setor_Veiculos e peças\n          Setor_Agro e Pesca, Setor_Alimentos e Beb, Setor_Comércio, Setor_Construção, Setor_Eletroeletrônicos, Setor_Minerais não Met, Setor_Mineração, Setor_Máquinas Indust, Setor_Outros, Setor_Papel e Celulose, Setor_Petróleo e Gas, Setor_Química, Setor_Siderur & Metalur, Setor_Software e Dados, Setor_Telecomunicações, Setor_Textil, Setor_Transporte Serviç, Setor_Veiculos e peças\n          const, Setor_Agro e Pesca, Setor_Alimentos e Beb, Setor_Comércio, Setor_Construção, Setor_Eletroeletrônicos, Setor_Minerais não Met, Setor_Mineração, Setor_Máquinas Indust, Setor_Outros, Setor_Papel e Celulose, Setor_Petróleo e Gas, Setor_Química, Setor_Siderur & Metalur, Setor_Software e Dados, Setor_Telecomunicações, Setor_Textil, Setor_Transporte Serviç, Setor_Veiculos e peças\n          const, Setor_Agro e Pesca, Setor_Alimentos e Beb, Setor_Comércio, Setor_Construção, Setor_Eletroeletrônicos, Setor_Minerais não Met, Setor_Mineração, Setor_Máquinas Indust, Setor_Outros, Setor_Papel e Celulose, Setor_Petróleo e Gas, Setor_Química, Setor_Siderur & Metalur, Setor_Software e Dados, Setor_Telecomunicações, Setor_Textil, Setor_Transporte Serviç, Setor_Veiculos e peças\n\nSet drop_absorbed=True to automatically drop absorbed variables.\n",
          "traceback": [
            "\u001b[0;31m---------------------------------------------------------------------------\u001b[0m",
            "\u001b[0;31mAbsorbingEffectError\u001b[0m                      Traceback (most recent call last)",
            "\u001b[0;32m<ipython-input-13-51484dc23f35>\u001b[0m in \u001b[0;36m<cell line: 31>\u001b[0;34m()\u001b[0m\n\u001b[1;32m     29\u001b[0m \u001b[0;34m\u001b[0m\u001b[0m\n\u001b[1;32m     30\u001b[0m \u001b[0;31m# Ajustando os modelos\u001b[0m\u001b[0;34m\u001b[0m\u001b[0;34m\u001b[0m\u001b[0m\n\u001b[0;32m---> 31\u001b[0;31m \u001b[0mmodelo_ef\u001b[0m \u001b[0;34m=\u001b[0m \u001b[0mPanelOLS\u001b[0m\u001b[0;34m(\u001b[0m\u001b[0my\u001b[0m\u001b[0;34m,\u001b[0m \u001b[0mX\u001b[0m\u001b[0;34m,\u001b[0m \u001b[0mentity_effects\u001b[0m\u001b[0;34m=\u001b[0m\u001b[0;32mTrue\u001b[0m\u001b[0;34m)\u001b[0m\u001b[0;34m.\u001b[0m\u001b[0mfit\u001b[0m\u001b[0;34m(\u001b[0m\u001b[0;34m)\u001b[0m\u001b[0;34m\u001b[0m\u001b[0;34m\u001b[0m\u001b[0m\n\u001b[0m\u001b[1;32m     32\u001b[0m \u001b[0mmodelo_ea\u001b[0m \u001b[0;34m=\u001b[0m \u001b[0mRandomEffects\u001b[0m\u001b[0;34m(\u001b[0m\u001b[0my\u001b[0m\u001b[0;34m,\u001b[0m \u001b[0mX\u001b[0m\u001b[0;34m)\u001b[0m\u001b[0;34m.\u001b[0m\u001b[0mfit\u001b[0m\u001b[0;34m(\u001b[0m\u001b[0;34m)\u001b[0m\u001b[0;34m\u001b[0m\u001b[0;34m\u001b[0m\u001b[0m\n\u001b[1;32m     33\u001b[0m \u001b[0mmodelo_pooled\u001b[0m \u001b[0;34m=\u001b[0m \u001b[0mPooledOLS\u001b[0m\u001b[0;34m(\u001b[0m\u001b[0my\u001b[0m\u001b[0;34m,\u001b[0m \u001b[0mX\u001b[0m\u001b[0;34m)\u001b[0m\u001b[0;34m.\u001b[0m\u001b[0mfit\u001b[0m\u001b[0;34m(\u001b[0m\u001b[0;34m)\u001b[0m\u001b[0;34m\u001b[0m\u001b[0;34m\u001b[0m\u001b[0m\n",
            "\u001b[0;32m/usr/local/lib/python3.10/dist-packages/linearmodels/panel/model.py\u001b[0m in \u001b[0;36mfit\u001b[0;34m(self, use_lsdv, use_lsmr, low_memory, cov_type, debiased, auto_df, count_effects, **cov_config)\u001b[0m\n\u001b[1;32m   1854\u001b[0m         \u001b[0;32mif\u001b[0m \u001b[0mself\u001b[0m\u001b[0;34m.\u001b[0m\u001b[0mentity_effects\u001b[0m \u001b[0;32mor\u001b[0m \u001b[0mself\u001b[0m\u001b[0;34m.\u001b[0m\u001b[0mtime_effects\u001b[0m \u001b[0;32mor\u001b[0m \u001b[0mself\u001b[0m\u001b[0;34m.\u001b[0m\u001b[0mother_effects\u001b[0m\u001b[0;34m:\u001b[0m\u001b[0;34m\u001b[0m\u001b[0;34m\u001b[0m\u001b[0m\n\u001b[1;32m   1855\u001b[0m             \u001b[0;32mif\u001b[0m \u001b[0;32mnot\u001b[0m \u001b[0mself\u001b[0m\u001b[0;34m.\u001b[0m\u001b[0m_drop_absorbed\u001b[0m\u001b[0;34m:\u001b[0m\u001b[0;34m\u001b[0m\u001b[0;34m\u001b[0m\u001b[0m\n\u001b[0;32m-> 1856\u001b[0;31m                 \u001b[0mcheck_absorbed\u001b[0m\u001b[0;34m(\u001b[0m\u001b[0mx\u001b[0m\u001b[0;34m,\u001b[0m \u001b[0;34m[\u001b[0m\u001b[0mstr\u001b[0m\u001b[0;34m(\u001b[0m\u001b[0mvar\u001b[0m\u001b[0;34m)\u001b[0m \u001b[0;32mfor\u001b[0m \u001b[0mvar\u001b[0m \u001b[0;32min\u001b[0m \u001b[0mself\u001b[0m\u001b[0;34m.\u001b[0m\u001b[0mexog\u001b[0m\u001b[0;34m.\u001b[0m\u001b[0mvars\u001b[0m\u001b[0;34m]\u001b[0m\u001b[0;34m)\u001b[0m\u001b[0;34m\u001b[0m\u001b[0;34m\u001b[0m\u001b[0m\n\u001b[0m\u001b[1;32m   1857\u001b[0m             \u001b[0;32melse\u001b[0m\u001b[0;34m:\u001b[0m\u001b[0;34m\u001b[0m\u001b[0;34m\u001b[0m\u001b[0m\n\u001b[1;32m   1858\u001b[0m                 \u001b[0;31m# TODO: Need to special case the constant here when determining which\u001b[0m\u001b[0;34m\u001b[0m\u001b[0;34m\u001b[0m\u001b[0m\n",
            "\u001b[0;32m/usr/local/lib/python3.10/dist-packages/linearmodels/panel/utility.py\u001b[0m in \u001b[0;36mcheck_absorbed\u001b[0;34m(x, variables, x_orig)\u001b[0m\n\u001b[1;32m    435\u001b[0m         \u001b[0mabsorbed_variables\u001b[0m \u001b[0;34m=\u001b[0m \u001b[0;34m\"\\n\"\u001b[0m\u001b[0;34m.\u001b[0m\u001b[0mjoin\u001b[0m\u001b[0;34m(\u001b[0m\u001b[0mrows\u001b[0m\u001b[0;34m)\u001b[0m\u001b[0;34m\u001b[0m\u001b[0;34m\u001b[0m\u001b[0m\n\u001b[1;32m    436\u001b[0m         \u001b[0mmsg\u001b[0m \u001b[0;34m=\u001b[0m \u001b[0mabsorbing_error_msg\u001b[0m\u001b[0;34m.\u001b[0m\u001b[0mformat\u001b[0m\u001b[0;34m(\u001b[0m\u001b[0mabsorbed_variables\u001b[0m\u001b[0;34m=\u001b[0m\u001b[0mabsorbed_variables\u001b[0m\u001b[0;34m)\u001b[0m\u001b[0;34m\u001b[0m\u001b[0;34m\u001b[0m\u001b[0m\n\u001b[0;32m--> 437\u001b[0;31m         \u001b[0;32mraise\u001b[0m \u001b[0mAbsorbingEffectError\u001b[0m\u001b[0;34m(\u001b[0m\u001b[0mmsg\u001b[0m\u001b[0;34m)\u001b[0m\u001b[0;34m\u001b[0m\u001b[0;34m\u001b[0m\u001b[0m\n\u001b[0m\u001b[1;32m    438\u001b[0m     \u001b[0;32mif\u001b[0m \u001b[0mx_orig\u001b[0m \u001b[0;32mis\u001b[0m \u001b[0;32mNone\u001b[0m\u001b[0;34m:\u001b[0m\u001b[0;34m\u001b[0m\u001b[0;34m\u001b[0m\u001b[0m\n\u001b[1;32m    439\u001b[0m         \u001b[0;32mreturn\u001b[0m\u001b[0;34m\u001b[0m\u001b[0;34m\u001b[0m\u001b[0m\n",
            "\u001b[0;31mAbsorbingEffectError\u001b[0m: \nThe model cannot be estimated. The included effects have fully absorbed\none or more of the variables. This occurs when one or more of the dependent\nvariable is perfectly explained using the effects included in the model.\n\nThe following variables or variable combinations have been fully absorbed\nor have become perfectly collinear after effects are removed:\n\n          const, PatrimLiqDez2010, LucroLiquidoDez2010, Setor_Agro e Pesca, Setor_Alimentos e Beb, Setor_Comércio, Setor_Construção, Setor_Eletroeletrônicos, Setor_Minerais não Met, Setor_Mineração, Setor_Máquinas Indust, Setor_Outros, Setor_Papel e Celulose, Setor_Petróleo e Gas, Setor_Química, Setor_Siderur & Metalur, Setor_Software e Dados, Setor_Telecomunicações, Setor_Textil, Setor_Transporte Serviç, Setor_Veiculos e peças, d_divulga\n          const, Setor_Agro e Pesca, Setor_Alimentos e Beb, Setor_Comércio, Setor_Construção, Setor_Eletroeletrônicos, Setor_Minerais não Met, Setor_Mineração, Setor_Máquinas Indust, Setor_Outros, Setor_Papel e Celulose, Setor_Petróleo e Gas, Setor_Química, Setor_Siderur & Metalur, Setor_Software e Dados, Setor_Telecomunicações, Setor_Textil, Setor_Transporte Serviç, Setor_Veiculos e peças\n          const, Setor_Agro e Pesca, Setor_Alimentos e Beb, Setor_Comércio, Setor_Construção, Setor_Eletroeletrônicos, Setor_Minerais não Met, Setor_Mineração, Setor_Máquinas Indust, Setor_Outros, Setor_Papel e Celulose, Setor_Petróleo e Gas, Setor_Química, Setor_Siderur & Metalur, Setor_Software e Dados, Setor_Telecomunicações, Setor_Textil, Setor_Transporte Serviç, Setor_Veiculos e peças\n          const, Setor_Agro e Pesca, Setor_Alimentos e Beb, Setor_Comércio, Setor_Construção, Setor_Eletroeletrônicos, Setor_Minerais não Met, Setor_Mineração, Setor_Máquinas Indust, Setor_Outros, Setor_Papel e Celulose, Setor_Petróleo e Gas, Setor_Química, Setor_Siderur & Metalur, Setor_Software e Dados, Setor_Telecomunicações, Setor_Textil, Setor_Transporte Serviç, Setor_Veiculos e peças\n          const, Setor_Agro e Pesca, Setor_Alimentos e Beb, Setor_Comércio, Setor_Construção, Setor_Eletroeletrônicos, Setor_Minerais não Met, Setor_Mineração, Setor_Máquinas Indust, Setor_Outros, Setor_Papel e Celulose, Setor_Petróleo e Gas, Setor_Química, Setor_Siderur & Metalur, Setor_Software e Dados, Setor_Telecomunicações, Setor_Textil, Setor_Transporte Serviç, Setor_Veiculos e peças\n          Setor_Agro e Pesca, Setor_Alimentos e Beb, Setor_Comércio, Setor_Construção, Setor_Eletroeletrônicos, Setor_Minerais não Met, Setor_Mineração, Setor_Máquinas Indust, Setor_Outros, Setor_Papel e Celulose, Setor_Petróleo e Gas, Setor_Química, Setor_Siderur & Metalur, Setor_Software e Dados, Setor_Telecomunicações, Setor_Textil, Setor_Transporte Serviç, Setor_Veiculos e peças\n          Setor_Agro e Pesca, Setor_Alimentos e Beb, Setor_Comércio, Setor_Construção, Setor_Eletroeletrônicos, Setor_Minerais não Met, Setor_Mineração, Setor_Máquinas Indust, Setor_Outros, Setor_Papel e Celulose, Setor_Petróleo e Gas, Setor_Química, Setor_Siderur & Metalur, Setor_Software e Dados, Setor_Telecomunicações, Setor_Textil, Setor_Transporte Serviç, Setor_Veiculos e peças\n          const, Setor_Agro e Pesca, Setor_Alimentos e Beb, Setor_Comércio, Setor_Construção, Setor_Eletroeletrônicos, Setor_Minerais não Met, Setor_Mineração, Setor_Máquinas Indust, Setor_Outros, Setor_Papel e Celulose, Setor_Petróleo e Gas, Setor_Química, Setor_Siderur & Metalur, Setor_Software e Dados, Setor_Telecomunicações, Setor_Textil, Setor_Transporte Serviç, Setor_Veiculos e peças\n          Setor_Agro e Pesca, Setor_Alimentos e Beb, Setor_Comércio, Setor_Construção, Setor_Eletroeletrônicos, Setor_Minerais não Met, Setor_Mineração, Setor_Máquinas Indust, Setor_Outros, Setor_Papel e Celulose, Setor_Petróleo e Gas, Setor_Química, Setor_Siderur & Metalur, Setor_Software e Dados, Setor_Telecomunicações, Setor_Textil, Setor_Transporte Serviç, Setor_Veiculos e peças\n          const, Setor_Agro e Pesca, Setor_Alimentos e Beb, Setor_Comércio, Setor_Construção, Setor_Eletroeletrônicos, Setor_Minerais não Met, Setor_Mineração, Setor_Máquinas Indust, Setor_Outros, Setor_Papel e Celulose, Setor_Petróleo e Gas, Setor_Química, Setor_Siderur & Metalur, Setor_Software e Dados, Setor_Telecomunicações, Setor_Textil, Setor_Transporte Serviç, Setor_Veiculos e peças\n          const, Setor_Agro e Pesca, Setor_Alimentos e Beb, Setor_Comércio, Setor_Construção, Setor_Eletroeletrônicos, Setor_Minerais não Met, Setor_Mineração, Setor_Máquinas Indust, Setor_Outros, Setor_Papel e Celulose, Setor_Petróleo e Gas, Setor_Química, Setor_Siderur & Metalur, Setor_Software e Dados, Setor_Telecomunicações, Setor_Textil, Setor_Transporte Serviç, Setor_Veiculos e peças\n          const, Setor_Agro e Pesca, Setor_Alimentos e Beb, Setor_Comércio, Setor_Construção, Setor_Eletroeletrônicos, Setor_Minerais não Met, Setor_Mineração, Setor_Máquinas Indust, Setor_Outros, Setor_Papel e Celulose, Setor_Petróleo e Gas, Setor_Química, Setor_Siderur & Metalur, Setor_Software e Dados, Setor_Telecomunicações, Setor_Textil, Setor_Transporte Serviç, Setor_Veiculos e peças\n          const, Setor_Agro e Pesca, Setor_Alimentos e Beb, Setor_Comércio, Setor_Construção, Setor_Eletroeletrônicos, Setor_Minerais não Met, Setor_Mineração, Setor_Máquinas Indust, Setor_Outros, Setor_Papel e Celulose, Setor_Petróleo e Gas, Setor_Química, Setor_Siderur & Metalur, Setor_Software e Dados, Setor_Telecomunicações, Setor_Textil, Setor_Transporte Serviç, Setor_Veiculos e peças\n          const, Setor_Agro e Pesca, Setor_Alimentos e Beb, Setor_Comércio, Setor_Construção, Setor_Eletroeletrônicos, Setor_Minerais não Met, Setor_Mineração, Setor_Máquinas Indust, Setor_Outros, Setor_Papel e Celulose, Setor_Petróleo e Gas, Setor_Química, Setor_Siderur & Metalur, Setor_Software e Dados, Setor_Telecomunicações, Setor_Textil, Setor_Transporte Serviç, Setor_Veiculos e peças\n          const, Setor_Agro e Pesca, Setor_Alimentos e Beb, Setor_Comércio, Setor_Construção, Setor_Eletroeletrônicos, Setor_Minerais não Met, Setor_Mineração, Setor_Máquinas Indust, Setor_Outros, Setor_Papel e Celulose, Setor_Petróleo e Gas, Setor_Química, Setor_Siderur & Metalur, Setor_Software e Dados, Setor_Telecomunicações, Setor_Textil, Setor_Transporte Serviç, Setor_Veiculos e peças\n          Setor_Agro e Pesca, Setor_Alimentos e Beb, Setor_Comércio, Setor_Construção, Setor_Eletroeletrônicos, Setor_Minerais não Met, Setor_Mineração, Setor_Máquinas Indust, Setor_Outros, Setor_Papel e Celulose, Setor_Petróleo e Gas, Setor_Química, Setor_Siderur & Metalur, Setor_Software e Dados, Setor_Telecomunicações, Setor_Textil, Setor_Transporte Serviç, Setor_Veiculos e peças\n          const, Setor_Agro e Pesca, Setor_Alimentos e Beb, Setor_Comércio, Setor_Construção, Setor_Eletroeletrônicos, Setor_Minerais não Met, Setor_Mineração, Setor_Máquinas Indust, Setor_Outros, Setor_Papel e Celulose, Setor_Petróleo e Gas, Setor_Química, Setor_Siderur & Metalur, Setor_Software e Dados, Setor_Telecomunicações, Setor_Textil, Setor_Transporte Serviç, Setor_Veiculos e peças\n          const, Setor_Agro e Pesca, Setor_Alimentos e Beb, Setor_Comércio, Setor_Construção, Setor_Eletroeletrônicos, Setor_Minerais não Met, Setor_Mineração, Setor_Máquinas Indust, Setor_Outros, Setor_Papel e Celulose, Setor_Petróleo e Gas, Setor_Química, Setor_Siderur & Metalur, Setor_Software e Dados, Setor_Telecomunicações, Setor_Textil, Setor_Transporte Serviç, Setor_Veiculos e peças\n\nSet drop_absorbed=True to automatically drop absorbed variables.\n"
          ]
        }
      ]
    }
  ]
}