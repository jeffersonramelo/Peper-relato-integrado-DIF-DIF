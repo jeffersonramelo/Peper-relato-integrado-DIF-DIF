{
  "nbformat": 4,
  "nbformat_minor": 0,
  "metadata": {
    "colab": {
      "provenance": [],
      "authorship_tag": "ABX9TyN2YPAWyQAv21IGP28moeut",
      "include_colab_link": true
    },
    "kernelspec": {
      "name": "python3",
      "display_name": "Python 3"
    },
    "language_info": {
      "name": "python"
    }
  },
  "cells": [
    {
      "cell_type": "markdown",
      "metadata": {
        "id": "view-in-github",
        "colab_type": "text"
      },
      "source": [
        "<a href=\"https://colab.research.google.com/github/jeffersonramelo/Peper-relato-integrado-DIF-DIF/blob/main/Painel_dados.ipynb\" target=\"_parent\"><img src=\"https://colab.research.google.com/assets/colab-badge.svg\" alt=\"Open In Colab\"/></a>"
      ]
    },
    {
      "cell_type": "code",
      "execution_count": 1,
      "metadata": {
        "colab": {
          "base_uri": "https://localhost:8080/"
        },
        "id": "cms1e42ETzq7",
        "outputId": "e3d556af-585e-4060-845b-eb9ff53a668a"
      },
      "outputs": [
        {
          "output_type": "stream",
          "name": "stdout",
          "text": [
            "Requirement already satisfied: pandas in /usr/local/lib/python3.10/dist-packages (1.5.3)\n",
            "Requirement already satisfied: openpyxl in /usr/local/lib/python3.10/dist-packages (3.1.2)\n",
            "Requirement already satisfied: python-dateutil>=2.8.1 in /usr/local/lib/python3.10/dist-packages (from pandas) (2.8.2)\n",
            "Requirement already satisfied: pytz>=2020.1 in /usr/local/lib/python3.10/dist-packages (from pandas) (2023.4)\n",
            "Requirement already satisfied: numpy>=1.21.0 in /usr/local/lib/python3.10/dist-packages (from pandas) (1.23.5)\n",
            "Requirement already satisfied: et-xmlfile in /usr/local/lib/python3.10/dist-packages (from openpyxl) (1.1.0)\n",
            "Requirement already satisfied: six>=1.5 in /usr/local/lib/python3.10/dist-packages (from python-dateutil>=2.8.1->pandas) (1.16.0)\n"
          ]
        }
      ],
      "source": [
        "pip install pandas openpyxl"
      ]
    },
    {
      "cell_type": "code",
      "source": [
        "import pandas as pd\n",
        "\n",
        "# Caminho para o seu arquivo XLSX\n",
        "arquivo_xlsx = '/content/merged_data_final todas.xlsx'\n",
        "\n",
        "# Lendo o arquivo XLSX\n",
        "try:\n",
        "    df_panel = pd.read_excel(arquivo_xlsx, engine='openpyxl')\n",
        "    # Exibindo as primeiras linhas do DataFrame para verificar os df\n",
        "    print(df.head())\n",
        "except Exception as e:\n",
        "    print(f\"Erro ao ler o arquivo: {e}\")"
      ],
      "metadata": {
        "colab": {
          "base_uri": "https://localhost:8080/"
        },
        "id": "X535KogcT7ba",
        "outputId": "c6949031-2a37-4893-dc07-6e0c23888f3d"
      },
      "execution_count": 10,
      "outputs": [
        {
          "output_type": "stream",
          "name": "stdout",
          "text": [
            "   id codigo                                Nome_Companhia        Nome  \\\n",
            "0   1   AESB                        AES Brasil Energia S/A  AES Brasil   \n",
            "1   2   AMBP  AMBIPAR PARTICIPAÇÕES E EMPREENDIMENTOS S.A.     Ambipar   \n",
            "2   3   AZUL                                     AZUL S.A.        Azul   \n",
            "3   4   CEAB                                C&A MODAS S.A.   Cea Modas   \n",
            "4   5   SBSP        CIA SANEAMENTO BÁSICO ESTADO SÃO PAULO      Sabesp   \n",
            "\n",
            "    SetorEconômicob3    SubsetorBovespa   SetorEconomatica  \\\n",
            "0  Utilidade pública   Energia elétrica   Energia Elétrica   \n",
            "1  Utilidade pública  Água e saneamento             Outros   \n",
            "2   Bens industriais         Transporte  Transporte Serviç   \n",
            "3    Consumo cíclico           Comércio           Comércio   \n",
            "4  Utilidade pública  Água e saneamento             Outros   \n",
            "\n",
            "   ValorMercado30Abr11  ValorMercado30Mai11  ValorMercado30Jun11  ...  \\\n",
            "0                  NaN                  NaN                  NaN  ...   \n",
            "1                  NaN                  NaN                  NaN  ...   \n",
            "2                  NaN                  NaN                  NaN  ...   \n",
            "3                  NaN                  NaN                  NaN  ...   \n",
            "4          10382514.91         1.105008e+07         1.058985e+07  ...   \n",
            "\n",
            "   flesch_index  d_fog_divulga  d_flesch_divulga  d_fog_IIRC  d_flesch_IIRC  \\\n",
            "0           NaN            NaN               NaN         NaN            NaN   \n",
            "1           NaN            NaN               NaN         NaN            NaN   \n",
            "2           NaN            NaN               NaN         NaN            NaN   \n",
            "3           NaN            NaN               NaN         NaN            NaN   \n",
            "4           NaN            NaN               NaN         NaN            NaN   \n",
            "\n",
            "   Unnamed: 57  Unnamed: 58  Unnamed: 59  14.775  17.56063278154889  \n",
            "0          NaN          NaN          NaN     NaN                NaN  \n",
            "1          NaN          NaN          NaN     NaN                NaN  \n",
            "2          NaN          NaN          NaN     NaN                NaN  \n",
            "3          NaN          NaN          NaN     NaN                NaN  \n",
            "4          NaN          NaN          NaN     NaN                NaN  \n",
            "\n",
            "[5 rows x 63 columns]\n"
          ]
        }
      ]
    },
    {
      "cell_type": "code",
      "source": [
        "from scipy.stats.mstats import winsorize\n",
        "\n",
        "# Assumindo que df já foi definido e filtrado para os anos de 2020, 2021 e 2022\n",
        "for col in ['PatrimLiqDez2010', 'LucroLiquidoDez2010']:\n",
        "    # Aplicando winsorize em cada coluna selecionada com limites de 1% para os outliers em ambos os lados da distribuição\n",
        "    df_panel[col] = winsorize(df_panel[col], limits=[0.01, 0.01])\n"
      ],
      "metadata": {
        "id": "BNagcUJEUCzp"
      },
      "execution_count": 11,
      "outputs": []
    },
    {
      "cell_type": "code",
      "source": [
        "pip install linearmodels"
      ],
      "metadata": {
        "colab": {
          "base_uri": "https://localhost:8080/"
        },
        "id": "wz1A_2ZMV0D3",
        "outputId": "b73f10d3-3398-446c-949e-d2c6409f1b3f"
      },
      "execution_count": 7,
      "outputs": [
        {
          "output_type": "stream",
          "name": "stdout",
          "text": [
            "Requirement already satisfied: linearmodels in /usr/local/lib/python3.10/dist-packages (5.4)\n",
            "Requirement already satisfied: numpy>=1.22.0 in /usr/local/lib/python3.10/dist-packages (from linearmodels) (1.23.5)\n",
            "Requirement already satisfied: pandas>=1.3.0 in /usr/local/lib/python3.10/dist-packages (from linearmodels) (1.5.3)\n",
            "Requirement already satisfied: scipy>=1.5.0 in /usr/local/lib/python3.10/dist-packages (from linearmodels) (1.11.4)\n",
            "Requirement already satisfied: statsmodels>=0.12.0 in /usr/local/lib/python3.10/dist-packages (from linearmodels) (0.14.1)\n",
            "Requirement already satisfied: mypy-extensions>=0.4 in /usr/local/lib/python3.10/dist-packages (from linearmodels) (1.0.0)\n",
            "Requirement already satisfied: Cython>=0.29.37 in /usr/local/lib/python3.10/dist-packages (from linearmodels) (3.0.8)\n",
            "Requirement already satisfied: pyhdfe>=0.1 in /usr/local/lib/python3.10/dist-packages (from linearmodels) (0.2.0)\n",
            "Requirement already satisfied: formulaic>=0.6.5 in /usr/local/lib/python3.10/dist-packages (from linearmodels) (1.0.1)\n",
            "Requirement already satisfied: setuptools-scm[toml]<9.0.0,>=8.0.0 in /usr/local/lib/python3.10/dist-packages (from linearmodels) (8.0.4)\n",
            "Requirement already satisfied: interface-meta>=1.2.0 in /usr/local/lib/python3.10/dist-packages (from formulaic>=0.6.5->linearmodels) (1.3.0)\n",
            "Requirement already satisfied: typing-extensions>=4.2.0 in /usr/local/lib/python3.10/dist-packages (from formulaic>=0.6.5->linearmodels) (4.9.0)\n",
            "Requirement already satisfied: wrapt>=1.0 in /usr/local/lib/python3.10/dist-packages (from formulaic>=0.6.5->linearmodels) (1.14.1)\n",
            "Requirement already satisfied: python-dateutil>=2.8.1 in /usr/local/lib/python3.10/dist-packages (from pandas>=1.3.0->linearmodels) (2.8.2)\n",
            "Requirement already satisfied: pytz>=2020.1 in /usr/local/lib/python3.10/dist-packages (from pandas>=1.3.0->linearmodels) (2023.4)\n",
            "Requirement already satisfied: packaging>=20 in /usr/local/lib/python3.10/dist-packages (from setuptools-scm[toml]<9.0.0,>=8.0.0->linearmodels) (23.2)\n",
            "Requirement already satisfied: setuptools in /usr/local/lib/python3.10/dist-packages (from setuptools-scm[toml]<9.0.0,>=8.0.0->linearmodels) (67.7.2)\n",
            "Requirement already satisfied: tomli>=1 in /usr/local/lib/python3.10/dist-packages (from setuptools-scm[toml]<9.0.0,>=8.0.0->linearmodels) (2.0.1)\n",
            "Requirement already satisfied: patsy>=0.5.4 in /usr/local/lib/python3.10/dist-packages (from statsmodels>=0.12.0->linearmodels) (0.5.6)\n",
            "Requirement already satisfied: six in /usr/local/lib/python3.10/dist-packages (from patsy>=0.5.4->statsmodels>=0.12.0->linearmodels) (1.16.0)\n"
          ]
        }
      ]
    },
    {
      "cell_type": "code",
      "source": [
        "# Supondo que df_panel seja seu DataFrame original\n",
        "\n",
        "# Configurando 'id' e 'ano' como índices MultiIndex se ainda não estiver configurado\n",
        "if not isinstance(df_panel.index, pd.MultiIndex):\n",
        "    df_panel = df_panel.set_index(['id', 'ano'])\n",
        "\n",
        "# Verificar se a configuração foi realizada corretamente\n",
        "print(df_panel.index)\n",
        "\n",
        "# Agora, preparar novamente 'y' e 'X' com o DataFrame corrigido\n",
        "y = df_panel['PU30Jun11']\n",
        "X = df_panel[['PatrimLiqDez2010', 'LucroLiquidoDez2010', 'd_divulga']]\n",
        "\n",
        "# Não esqueça de adicionar a constante a 'X' se estiver usando statsmodels junto com linearmodels\n",
        "X = sm.add_constant(X)\n",
        "\n",
        "# Ajustando os modelos como antes\n",
        "modelo_ef = PanelOLS(y, X, entity_effects=True).fit()\n",
        "modelo_ea = RandomEffects(y, X).fit()\n",
        "modelo_pooled = PooledOLS(y, X).fit()\n",
        "\n",
        "# Comparando os modelos\n",
        "resultado_comparacao = compare({\"Efeitos Fixos\": modelo_ef, \"Efeitos Aleatórios\": modelo_ea, \"Pooled OLS\": modelo_pooled})\n",
        "print(resultado_comparacao)\n"
      ],
      "metadata": {
        "colab": {
          "base_uri": "https://localhost:8080/"
        },
        "id": "XJ7zl6lBWwpZ",
        "outputId": "0c9864df-4127-44fb-8d46-ec88bee5bcf3"
      },
      "execution_count": 15,
      "outputs": [
        {
          "output_type": "stream",
          "name": "stdout",
          "text": [
            "MultiIndex([(  1, 2010),\n",
            "            (  2, 2010),\n",
            "            (  3, 2010),\n",
            "            (  4, 2010),\n",
            "            (  5, 2010),\n",
            "            (  6, 2010),\n",
            "            (  7, 2010),\n",
            "            (  8, 2010),\n",
            "            (  9, 2010),\n",
            "            ( 10, 2010),\n",
            "            ...\n",
            "            (383, 2022),\n",
            "            (384, 2022),\n",
            "            (385, 2022),\n",
            "            (385, 2022),\n",
            "            (385, 2022),\n",
            "            (386, 2022),\n",
            "            (387, 2022),\n",
            "            (388, 2022),\n",
            "            (389, 2022),\n",
            "            (407, 2022)],\n",
            "           names=['id', 'ano'], length=5264)\n"
          ]
        },
        {
          "output_type": "stream",
          "name": "stderr",
          "text": [
            "/usr/local/lib/python3.10/dist-packages/linearmodels/panel/model.py:1214: MissingValueWarning: \n",
            "Inputs contain missing values. Dropping rows with missing observations.\n",
            "  super().__init__(dependent, exog, weights=weights, check_rank=check_rank)\n",
            "/usr/local/lib/python3.10/dist-packages/linearmodels/panel/model.py:2618: MissingValueWarning: \n",
            "Inputs contain missing values. Dropping rows with missing observations.\n",
            "  super().__init__(dependent, exog, weights=weights, check_rank=check_rank)\n",
            "/usr/local/lib/python3.10/dist-packages/linearmodels/panel/model.py:882: MissingValueWarning: \n",
            "Inputs contain missing values. Dropping rows with missing observations.\n",
            "  super().__init__(dependent, exog, weights=weights, check_rank=check_rank)\n"
          ]
        },
        {
          "output_type": "stream",
          "name": "stdout",
          "text": [
            "                            Model Comparison                            \n",
            "========================================================================\n",
            "                         Efeitos Fixos Efeitos Aleatórios     Pooled OLS\n",
            "------------------------------------------------------------------------\n",
            "Dep. Variable                PU30Jun11          PU30Jun11      PU30Jun11\n",
            "Estimator                     PanelOLS      RandomEffects      PooledOLS\n",
            "No. Observations                  3241               3241           3241\n",
            "Cov. Est.                   Unadjusted         Unadjusted     Unadjusted\n",
            "R-squared                       0.0010             0.0002         0.0002\n",
            "R-Squared (Within)              0.0010          4.829e-05      9.073e-06\n",
            "R-Squared (Between)            -0.0839             0.0006         0.0006\n",
            "R-Squared (Overall)            -0.0180             0.0002         0.0002\n",
            "F-statistic                     0.9462             0.1865         0.2582\n",
            "P-value (F-stat)                0.4173             0.9056         0.8555\n",
            "=====================     ============    ===============   ============\n",
            "const                           42.344             315.09         328.12\n",
            "                              (0.1948)           (1.9445)       (2.1884)\n",
            "PatrimLiqDez2010             3.992e-05           3.05e-07      6.484e-09\n",
            "                              (1.5744)           (0.0422)       (0.0009)\n",
            "LucroLiquidoDez2010         -1.209e-05         -1.631e-06     -2.843e-06\n",
            "                             (-0.4011)          (-0.0572)      (-0.0986)\n",
            "d_divulga                      -267.43            -284.00        -302.45\n",
            "                             (-0.6383)          (-0.7904)      (-0.8509)\n",
            "======================= ==============  ================= ==============\n",
            "Effects                         Entity                                  \n",
            "------------------------------------------------------------------------\n",
            "\n",
            "T-stats reported in parentheses\n"
          ]
        }
      ]
    }
  ]
}